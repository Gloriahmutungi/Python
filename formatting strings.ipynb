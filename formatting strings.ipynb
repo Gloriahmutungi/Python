{
 "cells": [
  {
   "cell_type": "code",
   "execution_count": 1,
   "metadata": {},
   "outputs": [
    {
     "name": "stdout",
     "output_type": "stream",
     "text": [
      "Hello Gloria!\n"
     ]
    }
   ],
   "source": [
    "#Python provides several methods of formatting strings in the print() function beyond string addition\n",
    "\n",
    "#The print() function supports using commas to combine strings for output\n",
    "#by comma separating strings print() will output each string separated with a space by default\n",
    "\n",
    "name = \"Gloria\"\n",
    "print (\"Hello \"+ name +\"!\")"
   ]
  },
  {
   "cell_type": "code",
   "execution_count": 6,
   "metadata": {},
   "outputs": [
    {
     "name": "stdout",
     "output_type": "stream",
     "text": [
      "Hello to  Gloria Who lives in our city\n"
     ]
    }
   ],
   "source": [
    "name = \"Gloria\"\n",
    "print(\"Hello to \",name ,\"Who lives in our city\")"
   ]
  },
  {
   "cell_type": "code",
   "execution_count": 7,
   "metadata": {},
   "outputs": [
    {
     "name": "stdout",
     "output_type": "stream",
     "text": [
      "My name is Gloria Mutungi\n"
     ]
    }
   ],
   "source": [
    "#TASK# [ ] print 3 strings on the same line using commas inside the print() function \n",
    "print(\"My name is\",\"Gloria\",\"Mutungi\")\n"
   ]
  },
  {
   "cell_type": "code",
   "execution_count": 10,
   "metadata": {},
   "outputs": [
    {
     "name": "stdout",
     "output_type": "stream",
     "text": [
      "I will pick you up @ 6 for the party\n"
     ]
    }
   ],
   "source": [
    "#Print()\n",
    "#Comma format String and Numbers\n",
    "#Combining Strings and Numbers\n",
    "print(\"I will pick you up @\", \"6\",\"for the party\")"
   ]
  },
  {
   "cell_type": "code",
   "execution_count": 11,
   "metadata": {},
   "outputs": [
    {
     "name": "stdout",
     "output_type": "stream",
     "text": [
      "int= 14 with strings causes 0 Error is comma format!\n"
     ]
    }
   ],
   "source": [
    "num_error =0\n",
    "print(\"int=\",14,\"with strings causes\",num_error,\"Error is comma format!\")"
   ]
  },
  {
   "cell_type": "code",
   "execution_count": 12,
   "metadata": {},
   "outputs": [
    {
     "name": "stdout",
     "output_type": "stream",
     "text": [
      "Enter your name: gloria\n"
     ]
    }
   ],
   "source": [
    "total_cost = 22.95\n",
    "user_name = input(\"Enter your name: \")"
   ]
  },
  {
   "cell_type": "code",
   "execution_count": null,
   "metadata": {},
   "outputs": [],
   "source": []
  }
 ],
 "metadata": {
  "kernelspec": {
   "display_name": "Python 3",
   "language": "python",
   "name": "python3"
  },
  "language_info": {
   "codemirror_mode": {
    "name": "ipython",
    "version": 3
   },
   "file_extension": ".py",
   "mimetype": "text/x-python",
   "name": "python",
   "nbconvert_exporter": "python",
   "pygments_lexer": "ipython3",
   "version": "3.8.5"
  }
 },
 "nbformat": 4,
 "nbformat_minor": 4
}
