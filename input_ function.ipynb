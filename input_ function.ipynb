{
 "cells": [
  {
   "cell_type": "code",
   "execution_count": 5,
   "metadata": {},
   "outputs": [
    {
     "name": "stdout",
     "output_type": "stream",
     "text": [
      "Enter your name\n",
      "Gloria\n"
     ]
    }
   ],
   "source": [
    "#INPUT FUNCTION -ALLOWS USER TO SUPPLY DATA RETURNING THAT DATA AS A STRING\n",
    "print(\"Enter your name\")\n",
    "small_int = input()"
   ]
  },
  {
   "cell_type": "code",
   "execution_count": 6,
   "metadata": {},
   "outputs": [
    {
     "name": "stdout",
     "output_type": "stream",
     "text": [
      "The small int is Gloria\n"
     ]
    }
   ],
   "source": [
    "print(\"The small int is\",small_int)"
   ]
  },
  {
   "cell_type": "code",
   "execution_count": 7,
   "metadata": {},
   "outputs": [
    {
     "name": "stdout",
     "output_type": "stream",
     "text": [
      "enter a small int: \n",
      "5\n",
      "small int: \n",
      "5\n"
     ]
    }
   ],
   "source": [
    "# review and run code - enter a small integer in the text box\n",
    "print(\"enter a small int: \")\n",
    "small_int = input()\n",
    "print(\"small int: \")\n",
    "print(small_int)"
   ]
  },
  {
   "cell_type": "code",
   "execution_count": 14,
   "metadata": {},
   "outputs": [
    {
     "name": "stdout",
     "output_type": "stream",
     "text": [
      "Enter Student name\n",
      "57658\n"
     ]
    }
   ],
   "source": [
    "#[ ] create code to store input in student_name variable an input box should when run\n",
    "print(\"Enter Student name\")\n",
    "student_name = input()\n"
   ]
  },
  {
   "cell_type": "code",
   "execution_count": 18,
   "metadata": {},
   "outputs": [
    {
     "name": "stdout",
     "output_type": "stream",
     "text": [
      "The student name is  57658\n"
     ]
    }
   ],
   "source": [
    "# [ ] get input for the variable student_name\n",
    "print (\"The student name is \", student_name)\n"
   ]
  },
  {
   "cell_type": "code",
   "execution_count": 15,
   "metadata": {},
   "outputs": [
    {
     "data": {
      "text/plain": [
       "str"
      ]
     },
     "execution_count": 15,
     "metadata": {},
     "output_type": "execute_result"
    }
   ],
   "source": [
    "# [ ] determine the type of student_name\n",
    "type(student_name)"
   ]
  },
  {
   "cell_type": "code",
   "execution_count": null,
   "metadata": {},
   "outputs": [],
   "source": [
    "#the input() function has an optional string argument which displays the string intended to inform a user what to enter\n",
    "#input() works similar to print() in the way it displays arguments as output\n",
    "\n",
    "student_name = input(\"Enter student name :\")\n",
    "print(\"Hi \" +  student_name)\n"
   ]
  },
  {
   "cell_type": "code",
   "execution_count": null,
   "metadata": {},
   "outputs": [],
   "source": [
    "type(student_name)"
   ]
  },
  {
   "cell_type": "code",
   "execution_count": 2,
   "metadata": {},
   "outputs": [
    {
     "name": "stdout",
     "output_type": "stream",
     "text": [
      "Enter the name of your city\n",
      "gjege\n"
     ]
    }
   ],
   "source": [
    "#[ ] create a variable named city to store input, add a prompt for the name of a city\n",
    "\n",
    "print(\"Enter the name of your city\")\n",
    "city = input()"
   ]
  },
  {
   "cell_type": "code",
   "execution_count": 3,
   "metadata": {},
   "outputs": [
    {
     "name": "stdout",
     "output_type": "stream",
     "text": [
      "The city name is  gjege\n"
     ]
    }
   ],
   "source": [
    "print(\"The city name is \" , city)"
   ]
  },
  {
   "cell_type": "code",
   "execution_count": 6,
   "metadata": {},
   "outputs": [
    {
     "name": "stdout",
     "output_type": "stream",
     "text": [
      "Enter the city name: Nairobi\n",
      "Hi Nairobi\n"
     ]
    }
   ],
   "source": [
    "# [ ] get user input for a city name in the variable named city\n",
    "city =input(\"Enter the city name: \")\n",
    "print(\"Hi \" + city)"
   ]
  },
  {
   "cell_type": "code",
   "execution_count": 7,
   "metadata": {},
   "outputs": [
    {
     "name": "stdout",
     "output_type": "stream",
     "text": [
      "Nairobi\n"
     ]
    }
   ],
   "source": [
    "# [ ] print the city name\n",
    "print(city)"
   ]
  },
  {
   "cell_type": "code",
   "execution_count": 2,
   "metadata": {},
   "outputs": [
    {
     "name": "stdout",
     "output_type": "stream",
     "text": [
      "Enter student name:Gloria\n",
      "Gloria\n",
      "Enter your age:78\n",
      "78\n",
      "Do you want to get emails please Enter yes or Noyes\n",
      "yes\n"
     ]
    }
   ],
   "source": [
    "#[ ] create variables to store input: name, age, get_mail\n",
    "name = input(\"Enter student name:\")\n",
    "print(name)\n",
    "age = input(\"Enter your age:\")\n",
    "print(age)\n",
    "get_mail = input(\"Do you want to get emails please Enter yes or No\")\n",
    "print(get_mail)\n"
   ]
  },
  {
   "cell_type": "code",
   "execution_count": 6,
   "metadata": {},
   "outputs": [
    {
     "name": "stdout",
     "output_type": "stream",
     "text": [
      "enter your answer: 38\n",
      "You entered 38\n"
     ]
    }
   ],
   "source": [
    "     \n",
    "answer = input(\"enter your answer: \")  \n",
    "print(\"You entered \" + answer) \n"
   ]
  },
  {
   "cell_type": "code",
   "execution_count": null,
   "metadata": {},
   "outputs": [],
   "source": []
  }
 ],
 "metadata": {
  "kernelspec": {
   "display_name": "Python 3",
   "language": "python",
   "name": "python3"
  },
  "language_info": {
   "codemirror_mode": {
    "name": "ipython",
    "version": 3
   },
   "file_extension": ".py",
   "mimetype": "text/x-python",
   "name": "python",
   "nbconvert_exporter": "python",
   "pygments_lexer": "ipython3",
   "version": "3.8.5"
  }
 },
 "nbformat": 4,
 "nbformat_minor": 4
}
